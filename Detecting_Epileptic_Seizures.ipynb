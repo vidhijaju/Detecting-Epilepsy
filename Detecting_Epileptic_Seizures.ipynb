{
  "nbformat": 4,
  "nbformat_minor": 0,
  "metadata": {
    "colab": {
      "provenance": []
    },
    "kernelspec": {
      "name": "python3",
      "display_name": "Python 3"
    },
    "language_info": {
      "name": "python"
    }
  },
  "cells": [
    {
      "cell_type": "code",
      "execution_count": 22,
      "metadata": {
        "id": "HuAQnpcbRKHv"
      },
      "outputs": [],
      "source": [
        "import numpy as np\n",
        "import pandas as pd\n",
        "from tensorflow.keras.models import Sequential\n",
        "from tensorflow.keras.layers import Dense, Dropout, LSTM\n",
        "from tensorflow.keras.optimizers import Adam, SGD\n",
        "from tensorflow.keras.callbacks import EarlyStopping\n",
        "from sklearn.model_selection import train_test_split\n",
        "from sklearn.preprocessing import StandardScaler\n",
        "from sklearn.metrics import confusion_matrix\n",
        "import matplotlib.pyplot as plt"
      ]
    },
    {
      "cell_type": "code",
      "source": [
        "df = pd.read_csv('https://cainvas-static.s3.amazonaws.com/media/user_data/cainvas-admin/Epileptic_Seizure_Recognition.csv')\n",
        "df"
      ],
      "metadata": {
        "colab": {
          "base_uri": "https://localhost:8080/",
          "height": 424
        },
        "id": "qPefgWf_RTE-",
        "outputId": "f205243f-45c0-4f76-d1eb-e3e2d3be4a38"
      },
      "execution_count": 23,
      "outputs": [
        {
          "output_type": "execute_result",
          "data": {
            "text/plain": [
              "          Unnamed   X1   X2   X3   X4   X5   X6   X7   X8   X9  ...  X170  \\\n",
              "0      X21.V1.791  135  190  229  223  192  125   55   -9  -33  ...   -17   \n",
              "1      X15.V1.924  386  382  356  331  320  315  307  272  244  ...   164   \n",
              "2         X8.V1.1  -32  -39  -47  -37  -32  -36  -57  -73  -85  ...    57   \n",
              "3       X16.V1.60 -105 -101  -96  -92  -89  -95 -102 -100  -87  ...   -82   \n",
              "4       X20.V1.54   -9  -65  -98 -102  -78  -48  -16    0  -21  ...     4   \n",
              "...           ...  ...  ...  ...  ...  ...  ...  ...  ...  ...  ...   ...   \n",
              "11495  X22.V1.114  -22  -22  -23  -26  -36  -42  -45  -42  -45  ...    15   \n",
              "11496  X19.V1.354  -47  -11   28   77  141  211  246  240  193  ...   -65   \n",
              "11497    X8.V1.28   14    6  -13  -16   10   26   27   -9    4  ...   -65   \n",
              "11498  X10.V1.932  -40  -25   -9  -12   -2   12    7   19   22  ...   121   \n",
              "11499  X16.V1.210   29   41   57   72   74   62   54   43   31  ...   -59   \n",
              "\n",
              "       X171  X172  X173  X174  X175  X176  X177  X178  y  \n",
              "0       -15   -31   -77  -103  -127  -116   -83   -51  4  \n",
              "1       150   146   152   157   156   154   143   129  1  \n",
              "2        64    48    19   -12   -30   -35   -35   -36  5  \n",
              "3       -81   -80   -77   -85   -77   -72   -69   -65  5  \n",
              "4         2   -12   -32   -41   -65   -83   -89   -73  5  \n",
              "...     ...   ...   ...   ...   ...   ...   ...   ... ..  \n",
              "11495    16    12     5    -1   -18   -37   -47   -48  2  \n",
              "11496   -33    -7    14    27    48    77   117   170  1  \n",
              "11497   -48   -61   -62   -67   -30    -2    -1    -8  5  \n",
              "11498   135   148   143   116    86    68    59    55  3  \n",
              "11499   -25    -4     2     5     4    -2     2    20  4  \n",
              "\n",
              "[11500 rows x 180 columns]"
            ],
            "text/html": [
              "\n",
              "  <div id=\"df-5b89bd82-8afa-4f1f-83f1-e21f643c28e1\">\n",
              "    <div class=\"colab-df-container\">\n",
              "      <div>\n",
              "<style scoped>\n",
              "    .dataframe tbody tr th:only-of-type {\n",
              "        vertical-align: middle;\n",
              "    }\n",
              "\n",
              "    .dataframe tbody tr th {\n",
              "        vertical-align: top;\n",
              "    }\n",
              "\n",
              "    .dataframe thead th {\n",
              "        text-align: right;\n",
              "    }\n",
              "</style>\n",
              "<table border=\"1\" class=\"dataframe\">\n",
              "  <thead>\n",
              "    <tr style=\"text-align: right;\">\n",
              "      <th></th>\n",
              "      <th>Unnamed</th>\n",
              "      <th>X1</th>\n",
              "      <th>X2</th>\n",
              "      <th>X3</th>\n",
              "      <th>X4</th>\n",
              "      <th>X5</th>\n",
              "      <th>X6</th>\n",
              "      <th>X7</th>\n",
              "      <th>X8</th>\n",
              "      <th>X9</th>\n",
              "      <th>...</th>\n",
              "      <th>X170</th>\n",
              "      <th>X171</th>\n",
              "      <th>X172</th>\n",
              "      <th>X173</th>\n",
              "      <th>X174</th>\n",
              "      <th>X175</th>\n",
              "      <th>X176</th>\n",
              "      <th>X177</th>\n",
              "      <th>X178</th>\n",
              "      <th>y</th>\n",
              "    </tr>\n",
              "  </thead>\n",
              "  <tbody>\n",
              "    <tr>\n",
              "      <th>0</th>\n",
              "      <td>X21.V1.791</td>\n",
              "      <td>135</td>\n",
              "      <td>190</td>\n",
              "      <td>229</td>\n",
              "      <td>223</td>\n",
              "      <td>192</td>\n",
              "      <td>125</td>\n",
              "      <td>55</td>\n",
              "      <td>-9</td>\n",
              "      <td>-33</td>\n",
              "      <td>...</td>\n",
              "      <td>-17</td>\n",
              "      <td>-15</td>\n",
              "      <td>-31</td>\n",
              "      <td>-77</td>\n",
              "      <td>-103</td>\n",
              "      <td>-127</td>\n",
              "      <td>-116</td>\n",
              "      <td>-83</td>\n",
              "      <td>-51</td>\n",
              "      <td>4</td>\n",
              "    </tr>\n",
              "    <tr>\n",
              "      <th>1</th>\n",
              "      <td>X15.V1.924</td>\n",
              "      <td>386</td>\n",
              "      <td>382</td>\n",
              "      <td>356</td>\n",
              "      <td>331</td>\n",
              "      <td>320</td>\n",
              "      <td>315</td>\n",
              "      <td>307</td>\n",
              "      <td>272</td>\n",
              "      <td>244</td>\n",
              "      <td>...</td>\n",
              "      <td>164</td>\n",
              "      <td>150</td>\n",
              "      <td>146</td>\n",
              "      <td>152</td>\n",
              "      <td>157</td>\n",
              "      <td>156</td>\n",
              "      <td>154</td>\n",
              "      <td>143</td>\n",
              "      <td>129</td>\n",
              "      <td>1</td>\n",
              "    </tr>\n",
              "    <tr>\n",
              "      <th>2</th>\n",
              "      <td>X8.V1.1</td>\n",
              "      <td>-32</td>\n",
              "      <td>-39</td>\n",
              "      <td>-47</td>\n",
              "      <td>-37</td>\n",
              "      <td>-32</td>\n",
              "      <td>-36</td>\n",
              "      <td>-57</td>\n",
              "      <td>-73</td>\n",
              "      <td>-85</td>\n",
              "      <td>...</td>\n",
              "      <td>57</td>\n",
              "      <td>64</td>\n",
              "      <td>48</td>\n",
              "      <td>19</td>\n",
              "      <td>-12</td>\n",
              "      <td>-30</td>\n",
              "      <td>-35</td>\n",
              "      <td>-35</td>\n",
              "      <td>-36</td>\n",
              "      <td>5</td>\n",
              "    </tr>\n",
              "    <tr>\n",
              "      <th>3</th>\n",
              "      <td>X16.V1.60</td>\n",
              "      <td>-105</td>\n",
              "      <td>-101</td>\n",
              "      <td>-96</td>\n",
              "      <td>-92</td>\n",
              "      <td>-89</td>\n",
              "      <td>-95</td>\n",
              "      <td>-102</td>\n",
              "      <td>-100</td>\n",
              "      <td>-87</td>\n",
              "      <td>...</td>\n",
              "      <td>-82</td>\n",
              "      <td>-81</td>\n",
              "      <td>-80</td>\n",
              "      <td>-77</td>\n",
              "      <td>-85</td>\n",
              "      <td>-77</td>\n",
              "      <td>-72</td>\n",
              "      <td>-69</td>\n",
              "      <td>-65</td>\n",
              "      <td>5</td>\n",
              "    </tr>\n",
              "    <tr>\n",
              "      <th>4</th>\n",
              "      <td>X20.V1.54</td>\n",
              "      <td>-9</td>\n",
              "      <td>-65</td>\n",
              "      <td>-98</td>\n",
              "      <td>-102</td>\n",
              "      <td>-78</td>\n",
              "      <td>-48</td>\n",
              "      <td>-16</td>\n",
              "      <td>0</td>\n",
              "      <td>-21</td>\n",
              "      <td>...</td>\n",
              "      <td>4</td>\n",
              "      <td>2</td>\n",
              "      <td>-12</td>\n",
              "      <td>-32</td>\n",
              "      <td>-41</td>\n",
              "      <td>-65</td>\n",
              "      <td>-83</td>\n",
              "      <td>-89</td>\n",
              "      <td>-73</td>\n",
              "      <td>5</td>\n",
              "    </tr>\n",
              "    <tr>\n",
              "      <th>...</th>\n",
              "      <td>...</td>\n",
              "      <td>...</td>\n",
              "      <td>...</td>\n",
              "      <td>...</td>\n",
              "      <td>...</td>\n",
              "      <td>...</td>\n",
              "      <td>...</td>\n",
              "      <td>...</td>\n",
              "      <td>...</td>\n",
              "      <td>...</td>\n",
              "      <td>...</td>\n",
              "      <td>...</td>\n",
              "      <td>...</td>\n",
              "      <td>...</td>\n",
              "      <td>...</td>\n",
              "      <td>...</td>\n",
              "      <td>...</td>\n",
              "      <td>...</td>\n",
              "      <td>...</td>\n",
              "      <td>...</td>\n",
              "      <td>...</td>\n",
              "    </tr>\n",
              "    <tr>\n",
              "      <th>11495</th>\n",
              "      <td>X22.V1.114</td>\n",
              "      <td>-22</td>\n",
              "      <td>-22</td>\n",
              "      <td>-23</td>\n",
              "      <td>-26</td>\n",
              "      <td>-36</td>\n",
              "      <td>-42</td>\n",
              "      <td>-45</td>\n",
              "      <td>-42</td>\n",
              "      <td>-45</td>\n",
              "      <td>...</td>\n",
              "      <td>15</td>\n",
              "      <td>16</td>\n",
              "      <td>12</td>\n",
              "      <td>5</td>\n",
              "      <td>-1</td>\n",
              "      <td>-18</td>\n",
              "      <td>-37</td>\n",
              "      <td>-47</td>\n",
              "      <td>-48</td>\n",
              "      <td>2</td>\n",
              "    </tr>\n",
              "    <tr>\n",
              "      <th>11496</th>\n",
              "      <td>X19.V1.354</td>\n",
              "      <td>-47</td>\n",
              "      <td>-11</td>\n",
              "      <td>28</td>\n",
              "      <td>77</td>\n",
              "      <td>141</td>\n",
              "      <td>211</td>\n",
              "      <td>246</td>\n",
              "      <td>240</td>\n",
              "      <td>193</td>\n",
              "      <td>...</td>\n",
              "      <td>-65</td>\n",
              "      <td>-33</td>\n",
              "      <td>-7</td>\n",
              "      <td>14</td>\n",
              "      <td>27</td>\n",
              "      <td>48</td>\n",
              "      <td>77</td>\n",
              "      <td>117</td>\n",
              "      <td>170</td>\n",
              "      <td>1</td>\n",
              "    </tr>\n",
              "    <tr>\n",
              "      <th>11497</th>\n",
              "      <td>X8.V1.28</td>\n",
              "      <td>14</td>\n",
              "      <td>6</td>\n",
              "      <td>-13</td>\n",
              "      <td>-16</td>\n",
              "      <td>10</td>\n",
              "      <td>26</td>\n",
              "      <td>27</td>\n",
              "      <td>-9</td>\n",
              "      <td>4</td>\n",
              "      <td>...</td>\n",
              "      <td>-65</td>\n",
              "      <td>-48</td>\n",
              "      <td>-61</td>\n",
              "      <td>-62</td>\n",
              "      <td>-67</td>\n",
              "      <td>-30</td>\n",
              "      <td>-2</td>\n",
              "      <td>-1</td>\n",
              "      <td>-8</td>\n",
              "      <td>5</td>\n",
              "    </tr>\n",
              "    <tr>\n",
              "      <th>11498</th>\n",
              "      <td>X10.V1.932</td>\n",
              "      <td>-40</td>\n",
              "      <td>-25</td>\n",
              "      <td>-9</td>\n",
              "      <td>-12</td>\n",
              "      <td>-2</td>\n",
              "      <td>12</td>\n",
              "      <td>7</td>\n",
              "      <td>19</td>\n",
              "      <td>22</td>\n",
              "      <td>...</td>\n",
              "      <td>121</td>\n",
              "      <td>135</td>\n",
              "      <td>148</td>\n",
              "      <td>143</td>\n",
              "      <td>116</td>\n",
              "      <td>86</td>\n",
              "      <td>68</td>\n",
              "      <td>59</td>\n",
              "      <td>55</td>\n",
              "      <td>3</td>\n",
              "    </tr>\n",
              "    <tr>\n",
              "      <th>11499</th>\n",
              "      <td>X16.V1.210</td>\n",
              "      <td>29</td>\n",
              "      <td>41</td>\n",
              "      <td>57</td>\n",
              "      <td>72</td>\n",
              "      <td>74</td>\n",
              "      <td>62</td>\n",
              "      <td>54</td>\n",
              "      <td>43</td>\n",
              "      <td>31</td>\n",
              "      <td>...</td>\n",
              "      <td>-59</td>\n",
              "      <td>-25</td>\n",
              "      <td>-4</td>\n",
              "      <td>2</td>\n",
              "      <td>5</td>\n",
              "      <td>4</td>\n",
              "      <td>-2</td>\n",
              "      <td>2</td>\n",
              "      <td>20</td>\n",
              "      <td>4</td>\n",
              "    </tr>\n",
              "  </tbody>\n",
              "</table>\n",
              "<p>11500 rows × 180 columns</p>\n",
              "</div>\n",
              "      <button class=\"colab-df-convert\" onclick=\"convertToInteractive('df-5b89bd82-8afa-4f1f-83f1-e21f643c28e1')\"\n",
              "              title=\"Convert this dataframe to an interactive table.\"\n",
              "              style=\"display:none;\">\n",
              "        \n",
              "  <svg xmlns=\"http://www.w3.org/2000/svg\" height=\"24px\"viewBox=\"0 0 24 24\"\n",
              "       width=\"24px\">\n",
              "    <path d=\"M0 0h24v24H0V0z\" fill=\"none\"/>\n",
              "    <path d=\"M18.56 5.44l.94 2.06.94-2.06 2.06-.94-2.06-.94-.94-2.06-.94 2.06-2.06.94zm-11 1L8.5 8.5l.94-2.06 2.06-.94-2.06-.94L8.5 2.5l-.94 2.06-2.06.94zm10 10l.94 2.06.94-2.06 2.06-.94-2.06-.94-.94-2.06-.94 2.06-2.06.94z\"/><path d=\"M17.41 7.96l-1.37-1.37c-.4-.4-.92-.59-1.43-.59-.52 0-1.04.2-1.43.59L10.3 9.45l-7.72 7.72c-.78.78-.78 2.05 0 2.83L4 21.41c.39.39.9.59 1.41.59.51 0 1.02-.2 1.41-.59l7.78-7.78 2.81-2.81c.8-.78.8-2.07 0-2.86zM5.41 20L4 18.59l7.72-7.72 1.47 1.35L5.41 20z\"/>\n",
              "  </svg>\n",
              "      </button>\n",
              "      \n",
              "  <style>\n",
              "    .colab-df-container {\n",
              "      display:flex;\n",
              "      flex-wrap:wrap;\n",
              "      gap: 12px;\n",
              "    }\n",
              "\n",
              "    .colab-df-convert {\n",
              "      background-color: #E8F0FE;\n",
              "      border: none;\n",
              "      border-radius: 50%;\n",
              "      cursor: pointer;\n",
              "      display: none;\n",
              "      fill: #1967D2;\n",
              "      height: 32px;\n",
              "      padding: 0 0 0 0;\n",
              "      width: 32px;\n",
              "    }\n",
              "\n",
              "    .colab-df-convert:hover {\n",
              "      background-color: #E2EBFA;\n",
              "      box-shadow: 0px 1px 2px rgba(60, 64, 67, 0.3), 0px 1px 3px 1px rgba(60, 64, 67, 0.15);\n",
              "      fill: #174EA6;\n",
              "    }\n",
              "\n",
              "    [theme=dark] .colab-df-convert {\n",
              "      background-color: #3B4455;\n",
              "      fill: #D2E3FC;\n",
              "    }\n",
              "\n",
              "    [theme=dark] .colab-df-convert:hover {\n",
              "      background-color: #434B5C;\n",
              "      box-shadow: 0px 1px 3px 1px rgba(0, 0, 0, 0.15);\n",
              "      filter: drop-shadow(0px 1px 2px rgba(0, 0, 0, 0.3));\n",
              "      fill: #FFFFFF;\n",
              "    }\n",
              "  </style>\n",
              "\n",
              "      <script>\n",
              "        const buttonEl =\n",
              "          document.querySelector('#df-5b89bd82-8afa-4f1f-83f1-e21f643c28e1 button.colab-df-convert');\n",
              "        buttonEl.style.display =\n",
              "          google.colab.kernel.accessAllowed ? 'block' : 'none';\n",
              "\n",
              "        async function convertToInteractive(key) {\n",
              "          const element = document.querySelector('#df-5b89bd82-8afa-4f1f-83f1-e21f643c28e1');\n",
              "          const dataTable =\n",
              "            await google.colab.kernel.invokeFunction('convertToInteractive',\n",
              "                                                     [key], {});\n",
              "          if (!dataTable) return;\n",
              "\n",
              "          const docLinkHtml = 'Like what you see? Visit the ' +\n",
              "            '<a target=\"_blank\" href=https://colab.research.google.com/notebooks/data_table.ipynb>data table notebook</a>'\n",
              "            + ' to learn more about interactive tables.';\n",
              "          element.innerHTML = '';\n",
              "          dataTable['output_type'] = 'display_data';\n",
              "          await google.colab.output.renderOutput(dataTable, element);\n",
              "          const docLink = document.createElement('div');\n",
              "          docLink.innerHTML = docLinkHtml;\n",
              "          element.appendChild(docLink);\n",
              "        }\n",
              "      </script>\n",
              "    </div>\n",
              "  </div>\n",
              "  "
            ]
          },
          "metadata": {},
          "execution_count": 23
        }
      ]
    },
    {
      "cell_type": "code",
      "source": [
        "df['y'] = (df['y'] ==1).astype('int')\n",
        "df['y']"
      ],
      "metadata": {
        "colab": {
          "base_uri": "https://localhost:8080/"
        },
        "id": "sEVA9sBTRfyl",
        "outputId": "4943d01d-8649-4efb-a701-2c4be6e8ae3f"
      },
      "execution_count": 24,
      "outputs": [
        {
          "output_type": "execute_result",
          "data": {
            "text/plain": [
              "0        0\n",
              "1        1\n",
              "2        0\n",
              "3        0\n",
              "4        0\n",
              "        ..\n",
              "11495    0\n",
              "11496    1\n",
              "11497    0\n",
              "11498    0\n",
              "11499    0\n",
              "Name: y, Length: 11500, dtype: int64"
            ]
          },
          "metadata": {},
          "execution_count": 24
        }
      ]
    },
    {
      "cell_type": "code",
      "source": [
        "df['y'].value_counts()"
      ],
      "metadata": {
        "colab": {
          "base_uri": "https://localhost:8080/"
        },
        "id": "gYcMxIsrRir9",
        "outputId": "2f52595a-3f26-4e89-9ed9-d9fa725dc0c1"
      },
      "execution_count": 25,
      "outputs": [
        {
          "output_type": "execute_result",
          "data": {
            "text/plain": [
              "0    9200\n",
              "1    2300\n",
              "Name: y, dtype: int64"
            ]
          },
          "metadata": {},
          "execution_count": 25
        }
      ]
    },
    {
      "cell_type": "code",
      "source": [
        "class_names = ['Non-epileptic', 'Epileptic']"
      ],
      "metadata": {
        "id": "E3Ta7ppCRoZz"
      },
      "execution_count": 26,
      "outputs": []
    },
    {
      "cell_type": "code",
      "source": [
        "df1 = df[df['y'] == 1]\n",
        "df0 = df[df['y'] == 0]"
      ],
      "metadata": {
        "id": "1VzmjzLNRrix"
      },
      "execution_count": 27,
      "outputs": []
    },
    {
      "cell_type": "code",
      "source": [
        "print(\"Number of samples in:\")\n",
        "print(\"Class label 0 - \", len(df0))\n",
        "print(\"Class label 1 - \", len(df1))\n",
        "\n",
        "# Upsampling \n",
        "\n",
        "df1 = df1.sample(len(df0), replace = True)    # replace = True enables resampling\n",
        "\n",
        "print('\\nAfter resampling - ')\n",
        "\n",
        "print(\"Number of samples in:\")\n",
        "print(\"Class label 0 - \", len(df0))\n",
        "print(\"Class label 1 - \", len(df1))"
      ],
      "metadata": {
        "colab": {
          "base_uri": "https://localhost:8080/"
        },
        "id": "omYEzg4CRuAo",
        "outputId": "ed5dac2a-db49-4db3-ecb1-f2567c8980e1"
      },
      "execution_count": 28,
      "outputs": [
        {
          "output_type": "stream",
          "name": "stdout",
          "text": [
            "Number of samples in:\n",
            "Class label 0 -  9200\n",
            "Class label 1 -  2300\n",
            "\n",
            "After resampling - \n",
            "Number of samples in:\n",
            "Class label 0 -  9200\n",
            "Class label 1 -  9200\n"
          ]
        }
      ]
    },
    {
      "cell_type": "code",
      "source": [
        "df = df0.append(df1)\n",
        "\n",
        "print('Total number of samples - ', len(df))"
      ],
      "metadata": {
        "colab": {
          "base_uri": "https://localhost:8080/"
        },
        "id": "ezq8nil9Rxb9",
        "outputId": "800bfaf0-fd93-4f96-9c81-a50fa617e760"
      },
      "execution_count": 29,
      "outputs": [
        {
          "output_type": "stream",
          "name": "stdout",
          "text": [
            "Total number of samples -  18400\n"
          ]
        },
        {
          "output_type": "stream",
          "name": "stderr",
          "text": [
            "<ipython-input-29-ae545ddb934d>:1: FutureWarning: The frame.append method is deprecated and will be removed from pandas in a future version. Use pandas.concat instead.\n",
            "  df = df0.append(df1)\n"
          ]
        }
      ]
    },
    {
      "cell_type": "code",
      "source": [
        "input_columns = list(df.columns[1:-1])    # exculding the first 'Unnamed' column\n",
        "output_columns = list(df.columns[-1])\n",
        "\n",
        "print(\"Number of input columns: \", len(input_columns))\n",
        "#print(\"Input columns: \", ', '.join(input_columns))\n",
        "\n",
        "print(\"Number of output columns: \", len(output_columns))\n",
        "#print(\"Output columns: \", ', '.join(output_columns))"
      ],
      "metadata": {
        "colab": {
          "base_uri": "https://localhost:8080/"
        },
        "id": "fGSEe9S3R1X1",
        "outputId": "ffb71c76-6286-488c-fa73-16d00e05584e"
      },
      "execution_count": 30,
      "outputs": [
        {
          "output_type": "stream",
          "name": "stdout",
          "text": [
            "Number of input columns:  178\n",
            "Number of output columns:  1\n"
          ]
        }
      ]
    },
    {
      "cell_type": "code",
      "source": [
        "# Splitting into train, val and test set -- 80-10-10 split\n",
        "\n",
        "# First, an 80-20 split\n",
        "train_df, val_test_df = train_test_split(df, test_size = 0.2)\n",
        "\n",
        "# Then split the 20% into half\n",
        "val_df, test_df = train_test_split(val_test_df, test_size = 0.5)\n",
        "\n",
        "print(\"Number of samples in...\")\n",
        "print(\"Training set: \", len(train_df))\n",
        "print(\"Validation set: \", len(val_df))\n",
        "print(\"Testing set: \", len(test_df))"
      ],
      "metadata": {
        "colab": {
          "base_uri": "https://localhost:8080/"
        },
        "id": "0fcQwX30R4Ew",
        "outputId": "62959404-f277-43d3-ebf1-d6a55bb730cc"
      },
      "execution_count": 31,
      "outputs": [
        {
          "output_type": "stream",
          "name": "stdout",
          "text": [
            "Number of samples in...\n",
            "Training set:  14720\n",
            "Validation set:  1840\n",
            "Testing set:  1840\n"
          ]
        }
      ]
    },
    {
      "cell_type": "code",
      "source": [
        "# Splitting into X (input) and y (output)\n",
        "\n",
        "Xtrain, ytrain = np.array(train_df[input_columns]), np.array(train_df[output_columns])\n",
        "\n",
        "Xval, yval = np.array(val_df[input_columns]), np.array(val_df[output_columns])\n",
        "\n",
        "Xtest, ytest = np.array(test_df[input_columns]), np.array(test_df[output_columns])"
      ],
      "metadata": {
        "id": "4SHTGtSHR8u0"
      },
      "execution_count": 32,
      "outputs": []
    },
    {
      "cell_type": "code",
      "source": [
        "df.describe()"
      ],
      "metadata": {
        "colab": {
          "base_uri": "https://localhost:8080/",
          "height": 394
        },
        "id": "noKs_kJmR40f",
        "outputId": "c0bab6ad-c96a-4a64-f4e6-3c41e0028a64"
      },
      "execution_count": 33,
      "outputs": [
        {
          "output_type": "execute_result",
          "data": {
            "text/plain": [
              "                 X1            X2            X3            X4            X5  \\\n",
              "count  18400.000000  18400.000000  18400.000000  18400.000000  18400.000000   \n",
              "mean     -16.129891    -13.926522    -11.532826     -8.359728     -5.199565   \n",
              "std      244.851161    246.362374    242.550774    238.923885    239.316692   \n",
              "min    -1839.000000  -1838.000000  -1835.000000  -1845.000000  -1791.000000   \n",
              "25%      -84.000000    -83.000000    -82.000000    -81.250000    -81.000000   \n",
              "50%      -10.000000     -9.000000     -8.000000     -8.000000     -9.000000   \n",
              "75%       56.000000     56.000000     58.000000     60.000000     62.000000   \n",
              "max     1726.000000   1713.000000   1697.000000   1612.000000   1518.000000   \n",
              "\n",
              "                 X6            X7            X8            X9           X10  \\\n",
              "count  18400.000000  18400.000000  18400.000000  18400.000000  18400.000000   \n",
              "mean      -2.161848     -0.503152     -0.887011     -0.874511     -0.030815   \n",
              "std      239.325632    238.750247    240.240863    242.008906    240.808043   \n",
              "min    -1757.000000  -1832.000000  -1778.000000  -1840.000000  -1867.000000   \n",
              "25%      -76.000000    -75.000000    -73.000000    -74.000000    -73.000000   \n",
              "50%       -8.000000     -7.000000     -7.000000     -5.000000     -5.000000   \n",
              "75%       64.000000     62.000000     64.000000     66.000000     65.250000   \n",
              "max     1816.000000   2047.000000   2047.000000   2047.000000   2047.000000   \n",
              "\n",
              "       ...          X170          X171          X172          X173  \\\n",
              "count  ...  18400.000000  18400.000000  18400.000000  18400.000000   \n",
              "mean   ...    -10.565109    -14.969457    -19.161141    -21.334457   \n",
              "std    ...    246.494656    250.559283    257.193617    257.889117   \n",
              "min    ...  -1867.000000  -1865.000000  -1642.000000  -1723.000000   \n",
              "25%    ...    -82.000000    -82.000000    -84.000000    -88.000000   \n",
              "50%    ...    -10.000000    -11.000000    -12.000000    -12.000000   \n",
              "75%    ...     59.000000     57.000000     54.000000     54.000000   \n",
              "max    ...   1777.000000   1472.000000   1319.000000   1436.000000   \n",
              "\n",
              "               X174          X175          X176          X177          X178  \\\n",
              "count  18400.000000  18400.000000  18400.000000  18400.000000  18400.000000   \n",
              "mean     -20.347446    -18.848750    -17.442663    -16.507554    -16.677228   \n",
              "std      254.520256    248.418632    245.681133    244.661045    247.570956   \n",
              "min    -1866.000000  -1863.000000  -1781.000000  -1727.000000  -1829.000000   \n",
              "25%      -88.000000    -86.000000    -87.000000    -83.000000    -85.000000   \n",
              "50%      -12.000000    -11.000000    -10.000000    -11.000000    -11.000000   \n",
              "75%       55.000000     55.000000     55.000000     55.000000     54.000000   \n",
              "max     1733.000000   1958.000000   2047.000000   2047.000000   1915.000000   \n",
              "\n",
              "                  y  \n",
              "count  18400.000000  \n",
              "mean       0.500000  \n",
              "std        0.500014  \n",
              "min        0.000000  \n",
              "25%        0.000000  \n",
              "50%        0.500000  \n",
              "75%        1.000000  \n",
              "max        1.000000  \n",
              "\n",
              "[8 rows x 179 columns]"
            ],
            "text/html": [
              "\n",
              "  <div id=\"df-e153b815-55e8-4582-8961-0e30e86c0211\">\n",
              "    <div class=\"colab-df-container\">\n",
              "      <div>\n",
              "<style scoped>\n",
              "    .dataframe tbody tr th:only-of-type {\n",
              "        vertical-align: middle;\n",
              "    }\n",
              "\n",
              "    .dataframe tbody tr th {\n",
              "        vertical-align: top;\n",
              "    }\n",
              "\n",
              "    .dataframe thead th {\n",
              "        text-align: right;\n",
              "    }\n",
              "</style>\n",
              "<table border=\"1\" class=\"dataframe\">\n",
              "  <thead>\n",
              "    <tr style=\"text-align: right;\">\n",
              "      <th></th>\n",
              "      <th>X1</th>\n",
              "      <th>X2</th>\n",
              "      <th>X3</th>\n",
              "      <th>X4</th>\n",
              "      <th>X5</th>\n",
              "      <th>X6</th>\n",
              "      <th>X7</th>\n",
              "      <th>X8</th>\n",
              "      <th>X9</th>\n",
              "      <th>X10</th>\n",
              "      <th>...</th>\n",
              "      <th>X170</th>\n",
              "      <th>X171</th>\n",
              "      <th>X172</th>\n",
              "      <th>X173</th>\n",
              "      <th>X174</th>\n",
              "      <th>X175</th>\n",
              "      <th>X176</th>\n",
              "      <th>X177</th>\n",
              "      <th>X178</th>\n",
              "      <th>y</th>\n",
              "    </tr>\n",
              "  </thead>\n",
              "  <tbody>\n",
              "    <tr>\n",
              "      <th>count</th>\n",
              "      <td>18400.000000</td>\n",
              "      <td>18400.000000</td>\n",
              "      <td>18400.000000</td>\n",
              "      <td>18400.000000</td>\n",
              "      <td>18400.000000</td>\n",
              "      <td>18400.000000</td>\n",
              "      <td>18400.000000</td>\n",
              "      <td>18400.000000</td>\n",
              "      <td>18400.000000</td>\n",
              "      <td>18400.000000</td>\n",
              "      <td>...</td>\n",
              "      <td>18400.000000</td>\n",
              "      <td>18400.000000</td>\n",
              "      <td>18400.000000</td>\n",
              "      <td>18400.000000</td>\n",
              "      <td>18400.000000</td>\n",
              "      <td>18400.000000</td>\n",
              "      <td>18400.000000</td>\n",
              "      <td>18400.000000</td>\n",
              "      <td>18400.000000</td>\n",
              "      <td>18400.000000</td>\n",
              "    </tr>\n",
              "    <tr>\n",
              "      <th>mean</th>\n",
              "      <td>-16.129891</td>\n",
              "      <td>-13.926522</td>\n",
              "      <td>-11.532826</td>\n",
              "      <td>-8.359728</td>\n",
              "      <td>-5.199565</td>\n",
              "      <td>-2.161848</td>\n",
              "      <td>-0.503152</td>\n",
              "      <td>-0.887011</td>\n",
              "      <td>-0.874511</td>\n",
              "      <td>-0.030815</td>\n",
              "      <td>...</td>\n",
              "      <td>-10.565109</td>\n",
              "      <td>-14.969457</td>\n",
              "      <td>-19.161141</td>\n",
              "      <td>-21.334457</td>\n",
              "      <td>-20.347446</td>\n",
              "      <td>-18.848750</td>\n",
              "      <td>-17.442663</td>\n",
              "      <td>-16.507554</td>\n",
              "      <td>-16.677228</td>\n",
              "      <td>0.500000</td>\n",
              "    </tr>\n",
              "    <tr>\n",
              "      <th>std</th>\n",
              "      <td>244.851161</td>\n",
              "      <td>246.362374</td>\n",
              "      <td>242.550774</td>\n",
              "      <td>238.923885</td>\n",
              "      <td>239.316692</td>\n",
              "      <td>239.325632</td>\n",
              "      <td>238.750247</td>\n",
              "      <td>240.240863</td>\n",
              "      <td>242.008906</td>\n",
              "      <td>240.808043</td>\n",
              "      <td>...</td>\n",
              "      <td>246.494656</td>\n",
              "      <td>250.559283</td>\n",
              "      <td>257.193617</td>\n",
              "      <td>257.889117</td>\n",
              "      <td>254.520256</td>\n",
              "      <td>248.418632</td>\n",
              "      <td>245.681133</td>\n",
              "      <td>244.661045</td>\n",
              "      <td>247.570956</td>\n",
              "      <td>0.500014</td>\n",
              "    </tr>\n",
              "    <tr>\n",
              "      <th>min</th>\n",
              "      <td>-1839.000000</td>\n",
              "      <td>-1838.000000</td>\n",
              "      <td>-1835.000000</td>\n",
              "      <td>-1845.000000</td>\n",
              "      <td>-1791.000000</td>\n",
              "      <td>-1757.000000</td>\n",
              "      <td>-1832.000000</td>\n",
              "      <td>-1778.000000</td>\n",
              "      <td>-1840.000000</td>\n",
              "      <td>-1867.000000</td>\n",
              "      <td>...</td>\n",
              "      <td>-1867.000000</td>\n",
              "      <td>-1865.000000</td>\n",
              "      <td>-1642.000000</td>\n",
              "      <td>-1723.000000</td>\n",
              "      <td>-1866.000000</td>\n",
              "      <td>-1863.000000</td>\n",
              "      <td>-1781.000000</td>\n",
              "      <td>-1727.000000</td>\n",
              "      <td>-1829.000000</td>\n",
              "      <td>0.000000</td>\n",
              "    </tr>\n",
              "    <tr>\n",
              "      <th>25%</th>\n",
              "      <td>-84.000000</td>\n",
              "      <td>-83.000000</td>\n",
              "      <td>-82.000000</td>\n",
              "      <td>-81.250000</td>\n",
              "      <td>-81.000000</td>\n",
              "      <td>-76.000000</td>\n",
              "      <td>-75.000000</td>\n",
              "      <td>-73.000000</td>\n",
              "      <td>-74.000000</td>\n",
              "      <td>-73.000000</td>\n",
              "      <td>...</td>\n",
              "      <td>-82.000000</td>\n",
              "      <td>-82.000000</td>\n",
              "      <td>-84.000000</td>\n",
              "      <td>-88.000000</td>\n",
              "      <td>-88.000000</td>\n",
              "      <td>-86.000000</td>\n",
              "      <td>-87.000000</td>\n",
              "      <td>-83.000000</td>\n",
              "      <td>-85.000000</td>\n",
              "      <td>0.000000</td>\n",
              "    </tr>\n",
              "    <tr>\n",
              "      <th>50%</th>\n",
              "      <td>-10.000000</td>\n",
              "      <td>-9.000000</td>\n",
              "      <td>-8.000000</td>\n",
              "      <td>-8.000000</td>\n",
              "      <td>-9.000000</td>\n",
              "      <td>-8.000000</td>\n",
              "      <td>-7.000000</td>\n",
              "      <td>-7.000000</td>\n",
              "      <td>-5.000000</td>\n",
              "      <td>-5.000000</td>\n",
              "      <td>...</td>\n",
              "      <td>-10.000000</td>\n",
              "      <td>-11.000000</td>\n",
              "      <td>-12.000000</td>\n",
              "      <td>-12.000000</td>\n",
              "      <td>-12.000000</td>\n",
              "      <td>-11.000000</td>\n",
              "      <td>-10.000000</td>\n",
              "      <td>-11.000000</td>\n",
              "      <td>-11.000000</td>\n",
              "      <td>0.500000</td>\n",
              "    </tr>\n",
              "    <tr>\n",
              "      <th>75%</th>\n",
              "      <td>56.000000</td>\n",
              "      <td>56.000000</td>\n",
              "      <td>58.000000</td>\n",
              "      <td>60.000000</td>\n",
              "      <td>62.000000</td>\n",
              "      <td>64.000000</td>\n",
              "      <td>62.000000</td>\n",
              "      <td>64.000000</td>\n",
              "      <td>66.000000</td>\n",
              "      <td>65.250000</td>\n",
              "      <td>...</td>\n",
              "      <td>59.000000</td>\n",
              "      <td>57.000000</td>\n",
              "      <td>54.000000</td>\n",
              "      <td>54.000000</td>\n",
              "      <td>55.000000</td>\n",
              "      <td>55.000000</td>\n",
              "      <td>55.000000</td>\n",
              "      <td>55.000000</td>\n",
              "      <td>54.000000</td>\n",
              "      <td>1.000000</td>\n",
              "    </tr>\n",
              "    <tr>\n",
              "      <th>max</th>\n",
              "      <td>1726.000000</td>\n",
              "      <td>1713.000000</td>\n",
              "      <td>1697.000000</td>\n",
              "      <td>1612.000000</td>\n",
              "      <td>1518.000000</td>\n",
              "      <td>1816.000000</td>\n",
              "      <td>2047.000000</td>\n",
              "      <td>2047.000000</td>\n",
              "      <td>2047.000000</td>\n",
              "      <td>2047.000000</td>\n",
              "      <td>...</td>\n",
              "      <td>1777.000000</td>\n",
              "      <td>1472.000000</td>\n",
              "      <td>1319.000000</td>\n",
              "      <td>1436.000000</td>\n",
              "      <td>1733.000000</td>\n",
              "      <td>1958.000000</td>\n",
              "      <td>2047.000000</td>\n",
              "      <td>2047.000000</td>\n",
              "      <td>1915.000000</td>\n",
              "      <td>1.000000</td>\n",
              "    </tr>\n",
              "  </tbody>\n",
              "</table>\n",
              "<p>8 rows × 179 columns</p>\n",
              "</div>\n",
              "      <button class=\"colab-df-convert\" onclick=\"convertToInteractive('df-e153b815-55e8-4582-8961-0e30e86c0211')\"\n",
              "              title=\"Convert this dataframe to an interactive table.\"\n",
              "              style=\"display:none;\">\n",
              "        \n",
              "  <svg xmlns=\"http://www.w3.org/2000/svg\" height=\"24px\"viewBox=\"0 0 24 24\"\n",
              "       width=\"24px\">\n",
              "    <path d=\"M0 0h24v24H0V0z\" fill=\"none\"/>\n",
              "    <path d=\"M18.56 5.44l.94 2.06.94-2.06 2.06-.94-2.06-.94-.94-2.06-.94 2.06-2.06.94zm-11 1L8.5 8.5l.94-2.06 2.06-.94-2.06-.94L8.5 2.5l-.94 2.06-2.06.94zm10 10l.94 2.06.94-2.06 2.06-.94-2.06-.94-.94-2.06-.94 2.06-2.06.94z\"/><path d=\"M17.41 7.96l-1.37-1.37c-.4-.4-.92-.59-1.43-.59-.52 0-1.04.2-1.43.59L10.3 9.45l-7.72 7.72c-.78.78-.78 2.05 0 2.83L4 21.41c.39.39.9.59 1.41.59.51 0 1.02-.2 1.41-.59l7.78-7.78 2.81-2.81c.8-.78.8-2.07 0-2.86zM5.41 20L4 18.59l7.72-7.72 1.47 1.35L5.41 20z\"/>\n",
              "  </svg>\n",
              "      </button>\n",
              "      \n",
              "  <style>\n",
              "    .colab-df-container {\n",
              "      display:flex;\n",
              "      flex-wrap:wrap;\n",
              "      gap: 12px;\n",
              "    }\n",
              "\n",
              "    .colab-df-convert {\n",
              "      background-color: #E8F0FE;\n",
              "      border: none;\n",
              "      border-radius: 50%;\n",
              "      cursor: pointer;\n",
              "      display: none;\n",
              "      fill: #1967D2;\n",
              "      height: 32px;\n",
              "      padding: 0 0 0 0;\n",
              "      width: 32px;\n",
              "    }\n",
              "\n",
              "    .colab-df-convert:hover {\n",
              "      background-color: #E2EBFA;\n",
              "      box-shadow: 0px 1px 2px rgba(60, 64, 67, 0.3), 0px 1px 3px 1px rgba(60, 64, 67, 0.15);\n",
              "      fill: #174EA6;\n",
              "    }\n",
              "\n",
              "    [theme=dark] .colab-df-convert {\n",
              "      background-color: #3B4455;\n",
              "      fill: #D2E3FC;\n",
              "    }\n",
              "\n",
              "    [theme=dark] .colab-df-convert:hover {\n",
              "      background-color: #434B5C;\n",
              "      box-shadow: 0px 1px 3px 1px rgba(0, 0, 0, 0.15);\n",
              "      filter: drop-shadow(0px 1px 2px rgba(0, 0, 0, 0.3));\n",
              "      fill: #FFFFFF;\n",
              "    }\n",
              "  </style>\n",
              "\n",
              "      <script>\n",
              "        const buttonEl =\n",
              "          document.querySelector('#df-e153b815-55e8-4582-8961-0e30e86c0211 button.colab-df-convert');\n",
              "        buttonEl.style.display =\n",
              "          google.colab.kernel.accessAllowed ? 'block' : 'none';\n",
              "\n",
              "        async function convertToInteractive(key) {\n",
              "          const element = document.querySelector('#df-e153b815-55e8-4582-8961-0e30e86c0211');\n",
              "          const dataTable =\n",
              "            await google.colab.kernel.invokeFunction('convertToInteractive',\n",
              "                                                     [key], {});\n",
              "          if (!dataTable) return;\n",
              "\n",
              "          const docLinkHtml = 'Like what you see? Visit the ' +\n",
              "            '<a target=\"_blank\" href=https://colab.research.google.com/notebooks/data_table.ipynb>data table notebook</a>'\n",
              "            + ' to learn more about interactive tables.';\n",
              "          element.innerHTML = '';\n",
              "          dataTable['output_type'] = 'display_data';\n",
              "          await google.colab.output.renderOutput(dataTable, element);\n",
              "          const docLink = document.createElement('div');\n",
              "          docLink.innerHTML = docLinkHtml;\n",
              "          element.appendChild(docLink);\n",
              "        }\n",
              "      </script>\n",
              "    </div>\n",
              "  </div>\n",
              "  "
            ]
          },
          "metadata": {},
          "execution_count": 33
        }
      ]
    },
    {
      "cell_type": "code",
      "source": [
        "# Using standard scaler to standardize them to values with mean = 0 and variance = 1.\n",
        "\n",
        "standard_scaler = StandardScaler()\n",
        "\n",
        "# Fit on training set alone\n",
        "Xtrain = standard_scaler.fit_transform(Xtrain)\n",
        "\n",
        "# Use it to transform val and test input\n",
        "Xval = standard_scaler.transform(Xval)\n",
        "Xtest = standard_scaler.transform(Xtest)"
      ],
      "metadata": {
        "id": "iUz4Y7hISDIK"
      },
      "execution_count": 34,
      "outputs": []
    },
    {
      "cell_type": "code",
      "source": [
        "model = Sequential([\n",
        "    Dense(512, activation = 'relu', input_shape = Xtrain[0].shape),\n",
        "    Dense(256, activation = 'relu'),\n",
        "    Dense(128, activation = 'relu'),\n",
        "    Dense(1, activation = 'sigmoid')\n",
        "])\n",
        "\n",
        "cb = [EarlyStopping(monitor = 'val_loss', patience = 3, restore_best_weights = True)]\n",
        "model.summary()"
      ],
      "metadata": {
        "colab": {
          "base_uri": "https://localhost:8080/"
        },
        "id": "VmV1G9uCSGP3",
        "outputId": "05782079-6ae5-4f7b-c8a3-dd49a88eaf84"
      },
      "execution_count": 35,
      "outputs": [
        {
          "output_type": "stream",
          "name": "stdout",
          "text": [
            "Model: \"sequential_1\"\n",
            "_________________________________________________________________\n",
            " Layer (type)                Output Shape              Param #   \n",
            "=================================================================\n",
            " dense_4 (Dense)             (None, 512)               91648     \n",
            "                                                                 \n",
            " dense_5 (Dense)             (None, 256)               131328    \n",
            "                                                                 \n",
            " dense_6 (Dense)             (None, 128)               32896     \n",
            "                                                                 \n",
            " dense_7 (Dense)             (None, 1)                 129       \n",
            "                                                                 \n",
            "=================================================================\n",
            "Total params: 256,001\n",
            "Trainable params: 256,001\n",
            "Non-trainable params: 0\n",
            "_________________________________________________________________\n"
          ]
        }
      ]
    },
    {
      "cell_type": "code",
      "source": [
        "model.compile(optimizer=Adam(0.01), loss='binary_crossentropy', metrics=['accuracy'])\n",
        "\n",
        "history1 = model.fit(Xtrain, ytrain, validation_data = (Xval, yval), epochs=16, callbacks = cb)"
      ],
      "metadata": {
        "colab": {
          "base_uri": "https://localhost:8080/"
        },
        "id": "jlbZUHFISJby",
        "outputId": "ff93e8c6-7031-4762-83c3-68aeb13cbd1a"
      },
      "execution_count": 36,
      "outputs": [
        {
          "output_type": "stream",
          "name": "stdout",
          "text": [
            "Epoch 1/16\n",
            "460/460 [==============================] - 5s 9ms/step - loss: 0.1860 - accuracy: 0.9362 - val_loss: 0.1481 - val_accuracy: 0.9598\n",
            "Epoch 2/16\n",
            "460/460 [==============================] - 5s 10ms/step - loss: 0.1010 - accuracy: 0.9682 - val_loss: 0.1218 - val_accuracy: 0.9679\n",
            "Epoch 3/16\n",
            "460/460 [==============================] - 3s 7ms/step - loss: 0.0877 - accuracy: 0.9700 - val_loss: 0.0933 - val_accuracy: 0.9701\n",
            "Epoch 4/16\n",
            "460/460 [==============================] - 4s 9ms/step - loss: 0.0923 - accuracy: 0.9694 - val_loss: 0.0943 - val_accuracy: 0.9696\n",
            "Epoch 5/16\n",
            "460/460 [==============================] - 3s 7ms/step - loss: 0.0899 - accuracy: 0.9725 - val_loss: 0.0896 - val_accuracy: 0.9755\n",
            "Epoch 6/16\n",
            "460/460 [==============================] - 3s 7ms/step - loss: 0.0796 - accuracy: 0.9740 - val_loss: 0.0864 - val_accuracy: 0.9766\n",
            "Epoch 7/16\n",
            "460/460 [==============================] - 4s 8ms/step - loss: 0.0623 - accuracy: 0.9799 - val_loss: 0.1251 - val_accuracy: 0.9712\n",
            "Epoch 8/16\n",
            "460/460 [==============================] - 4s 8ms/step - loss: 0.0594 - accuracy: 0.9802 - val_loss: 0.0829 - val_accuracy: 0.9701\n",
            "Epoch 9/16\n",
            "460/460 [==============================] - 3s 7ms/step - loss: 0.0536 - accuracy: 0.9810 - val_loss: 0.0929 - val_accuracy: 0.9832\n",
            "Epoch 10/16\n",
            "460/460 [==============================] - 3s 6ms/step - loss: 0.1000 - accuracy: 0.9678 - val_loss: 0.0908 - val_accuracy: 0.9723\n",
            "Epoch 11/16\n",
            "460/460 [==============================] - 4s 8ms/step - loss: 0.0734 - accuracy: 0.9778 - val_loss: 0.0688 - val_accuracy: 0.9777\n",
            "Epoch 12/16\n",
            "460/460 [==============================] - 3s 8ms/step - loss: 0.0446 - accuracy: 0.9851 - val_loss: 0.0671 - val_accuracy: 0.9793\n",
            "Epoch 13/16\n",
            "460/460 [==============================] - 3s 7ms/step - loss: 0.0470 - accuracy: 0.9834 - val_loss: 0.0805 - val_accuracy: 0.9815\n",
            "Epoch 14/16\n",
            "460/460 [==============================] - 3s 7ms/step - loss: 0.0871 - accuracy: 0.9726 - val_loss: 0.0913 - val_accuracy: 0.9755\n",
            "Epoch 15/16\n",
            "460/460 [==============================] - 4s 9ms/step - loss: 0.0764 - accuracy: 0.9763 - val_loss: 0.1004 - val_accuracy: 0.9772\n"
          ]
        }
      ]
    },
    {
      "cell_type": "code",
      "source": [
        "model.compile(optimizer=Adam(0.001), loss='binary_crossentropy', metrics=['accuracy'])\n",
        "\n",
        "history2 = model.fit(Xtrain, ytrain, validation_data = (Xval, yval), epochs=16, callbacks = cb)"
      ],
      "metadata": {
        "colab": {
          "base_uri": "https://localhost:8080/"
        },
        "id": "Ho1f4_UMSNAD",
        "outputId": "3b83a3a2-1795-4083-e29f-24fc776fefda"
      },
      "execution_count": 37,
      "outputs": [
        {
          "output_type": "stream",
          "name": "stdout",
          "text": [
            "Epoch 1/16\n",
            "460/460 [==============================] - 4s 7ms/step - loss: 0.0235 - accuracy: 0.9918 - val_loss: 0.0899 - val_accuracy: 0.9826\n",
            "Epoch 2/16\n",
            "460/460 [==============================] - 3s 7ms/step - loss: 0.0159 - accuracy: 0.9943 - val_loss: 0.0813 - val_accuracy: 0.9864\n",
            "Epoch 3/16\n",
            "460/460 [==============================] - 4s 8ms/step - loss: 0.0128 - accuracy: 0.9953 - val_loss: 0.0936 - val_accuracy: 0.9870\n",
            "Epoch 4/16\n",
            "460/460 [==============================] - 4s 10ms/step - loss: 0.0118 - accuracy: 0.9957 - val_loss: 0.1096 - val_accuracy: 0.9853\n",
            "Epoch 5/16\n",
            "460/460 [==============================] - 4s 8ms/step - loss: 0.0111 - accuracy: 0.9960 - val_loss: 0.1366 - val_accuracy: 0.9864\n"
          ]
        }
      ]
    },
    {
      "cell_type": "code",
      "source": [
        "model.evaluate(Xtest, ytest)"
      ],
      "metadata": {
        "colab": {
          "base_uri": "https://localhost:8080/"
        },
        "id": "wv0jOjAHSOvp",
        "outputId": "55d81156-a30a-4882-83bd-0a5a64069ba7"
      },
      "execution_count": 38,
      "outputs": [
        {
          "output_type": "stream",
          "name": "stdout",
          "text": [
            "58/58 [==============================] - 0s 3ms/step - loss: 0.0719 - accuracy: 0.9870\n"
          ]
        },
        {
          "output_type": "execute_result",
          "data": {
            "text/plain": [
              "[0.07193342596292496, 0.9869565367698669]"
            ]
          },
          "metadata": {},
          "execution_count": 38
        }
      ]
    },
    {
      "cell_type": "code",
      "source": [
        "def plot(history1, history2, variable1, variable2):\n",
        "    # combining metrics from both trainings    \n",
        "    var1_history = history1[variable1]\n",
        "    var1_history.extend(history2[variable1])\n",
        "    \n",
        "    var2_history = history1[variable2]\n",
        "    var2_history.extend(history2[variable2])\n",
        "    \n",
        "    # plotting them\n",
        "    plt.plot(range(len(var1_history)), var1_history)\n",
        "    plt.plot(range(len(var2_history)), var2_history)\n",
        "    plt.legend([variable1, variable2])\n",
        "    plt.title(variable1)"
      ],
      "metadata": {
        "id": "aCG33a8MSRtc"
      },
      "execution_count": 39,
      "outputs": []
    },
    {
      "cell_type": "code",
      "source": [
        "plot(history1.history, history2.history, \"accuracy\", 'val_accuracy')"
      ],
      "metadata": {
        "colab": {
          "base_uri": "https://localhost:8080/",
          "height": 281
        },
        "id": "3tlr39JETbxy",
        "outputId": "5718a895-9d40-44f5-a10b-3cd84185be9f"
      },
      "execution_count": 40,
      "outputs": [
        {
          "output_type": "display_data",
          "data": {
            "text/plain": [
              "<Figure size 432x288 with 1 Axes>"
            ],
            "image/png": "[encoded data removed]"
          },
          "metadata": {
            "needs_background": "light"
          }
        }
      ]
    },
    {
      "cell_type": "code",
      "source": [
        "plot(history1.history, history2.history, \"loss\", 'val_loss')"
      ],
      "metadata": {
        "colab": {
          "base_uri": "https://localhost:8080/",
          "height": 281
        },
        "id": "E-OQWsSQTd8t",
        "outputId": "26501b2c-eb53-440e-deb0-3104681fef39"
      },
      "execution_count": 41,
      "outputs": [
        {
          "output_type": "display_data",
          "data": {
            "text/plain": [
              "<Figure size 432x288 with 1 Axes>"
            ],
            "image/png": "[encoded data removed]"
          },
          "metadata": {
            "needs_background": "light"
          }
        }
      ]
    },
    {
      "cell_type": "code",
      "source": [
        "cm = confusion_matrix(ytest, (model.predict(Xtest)>0.5).astype('int'))\n",
        "cm = cm.astype('float') / cm.sum(axis=1)[:, np.newaxis]\n",
        "\n",
        "for i in range(cm.shape[1]):\n",
        "    for j in range(cm.shape[0]):\n",
        "        plt.text(j, i, format(cm[i, j], '.2f'), horizontalalignment=\"center\", color=\"black\")\n",
        "\n",
        "\n",
        "plt.imshow(cm, cmap=plt.cm.Blues)"
      ],
      "metadata": {
        "colab": {
          "base_uri": "https://localhost:8080/",
          "height": 304
        },
        "id": "xoSDJYl9SZJP",
        "outputId": "2fa16dce-5142-4462-d7b2-e47028e5d1ea"
      },
      "execution_count": 42,
      "outputs": [
        {
          "output_type": "stream",
          "name": "stdout",
          "text": [
            "58/58 [==============================] - 0s 2ms/step\n"
          ]
        },
        {
          "output_type": "execute_result",
          "data": {
            "text/plain": [
              "<matplotlib.image.AxesImage at 0x7f18f8873190>"
            ]
          },
          "metadata": {},
          "execution_count": 42
        },
        {
          "output_type": "display_data",
          "data": {
            "text/plain": [
              "<Figure size 432x288 with 1 Axes>"
            ],
            "image/png": "[encoded data removed]"
          },
          "metadata": {
            "needs_background": "light"
          }
        }
      ]
    }
  ]
}